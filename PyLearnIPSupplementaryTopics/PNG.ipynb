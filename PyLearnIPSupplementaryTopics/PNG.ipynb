{
 "cells": [
  {
   "cell_type": "code",
   "execution_count": 1,
   "metadata": {},
   "outputs": [],
   "source": [
    "import statistics\n",
    "from PIL import ImageFont, ImageDraw, Image  \n",
    "import numpy as np\n",
    "import matplotlib.pyplot as plt\n",
    "import cv2"
   ]
  },
  {
   "attachments": {},
   "cell_type": "markdown",
   "metadata": {},
   "source": [
    "Transparent Microsoft logo"
   ]
  },
  {
   "cell_type": "code",
   "execution_count": 2,
   "metadata": {},
   "outputs": [],
   "source": [
    "microsoft = np.ones((310,689,4), dtype=np.uint8)\n",
    "microsoft[:,:,:] = [0, 0, 0, 0]\n",
    "\n",
    "microsoft[104:152, 104:152] = [242, 80, 34, 255]\n",
    "microsoft[157:206, 104:152] = [1, 164, 239, 255]\n",
    "microsoft[104:152, 157:206] = [127, 186, 0, 255]\n",
    "microsoft[157:206, 157:206] = [255, 185, 1, 255]\n",
    "\n",
    "image = Image.fromarray(microsoft)  \n",
    "\n",
    "draw = ImageDraw.Draw(image)  \n",
    "   \n",
    " # use a truetype font  \n",
    "font = ImageFont.truetype('input\\Segoe UI Bold.ttf', 77)\n",
    "\n",
    "draw.text((236,100), \"Microsoft\", font=font)  \n",
    "\n",
    "image.save(\"output/microsoft.png\")"
   ]
  },
  {
   "attachments": {},
   "cell_type": "markdown",
   "metadata": {},
   "source": [
    "Color Recognition"
   ]
  },
  {
   "cell_type": "code",
   "execution_count": 7,
   "metadata": {},
   "outputs": [],
   "source": [
    "# cap = cv2.VideoCapture(0)\n",
    "cap = cv2.VideoCapture('input/colors.mp4')\n",
    "_, frame = cap.read()\n",
    "rows, cols, _ = frame.shape\n",
    "n = 0\n",
    "\n",
    "writer = cv2.VideoWriter('output\\mamad.mp4', cv2.VideoWriter_fourcc(*'MJPG'), 30, (cols, rows))\n",
    "\n",
    "while True:\n",
    "    n+=1\n",
    "    _, frame_org = cap.read()\n",
    "    frame_detect = frame_org[(rows//2 - 50):(rows//2 + 50), (cols//2 - 50):(cols//2 + 50)].copy()\n",
    "    frame_filtered = cv2.blur(frame_org, [15, 15]) \n",
    "    cv2.rectangle(frame_filtered, (cols//2 - 50,rows//2 - 50), (cols//2 + 50,rows//2 + 50), 0,8)\n",
    "    mean = np.mean(frame_detect, axis=(0,1))\n",
    "    var = statistics.variance(mean)\n",
    "    if mean[2] > (mean[0] + mean[1])*0.9:\n",
    "        color = 'Red'\n",
    "    elif mean[1] > (mean[0] + mean[2])*0.9:\n",
    "        color = 'Green'\n",
    "    elif mean[0] > (mean[1] + mean[2])*0.9:\n",
    "        color = 'Blue'\n",
    "    elif mean[1] > mean[0]*1.7 and mean[2] > mean[0]*1.7:\n",
    "        color = 'Yellow'\n",
    "    elif mean[2] > (mean[0] + 30) and mean[2] > (mean[0] + 30):\n",
    "        color = 'Orange'\n",
    "    elif mean[2] > mean[1]*2 and mean[0] > mean[1]*2:\n",
    "        color = 'Purple'\n",
    "    elif var < 50 and np.mean(mean) > 100:\n",
    "        color = 'White'\n",
    "    elif var < 10 and np.mean(mean) < 60:\n",
    "        color = 'Black'\n",
    "    else:\n",
    "        color = 'unknown'\n",
    "    # cv2.putText(frame_filtered, str(var), (100,50), cv2.FONT_HERSHEY_SIMPLEX, 0.5, 0, thickness= 1)\n",
    "    cv2.putText(frame_filtered, color, (150,50), cv2.FONT_HERSHEY_SIMPLEX, 0.7, 0, thickness= 1)\n",
    "    frame_filtered[(rows//2 - 50):(rows//2 + 50), (cols//2 - 50):(cols//2 + 50)] = frame_detect\n",
    "    writer.write(frame_filtered)\n",
    "    cv2.imshow('result', frame_filtered)\n",
    "    if cv2.waitKey(25) & 0xFF == ord('q'):\n",
    "        break\n",
    "    if n == 1641:\n",
    "        break\n",
    "\n",
    "writer.release()\n",
    "cap.release()\n",
    "cv2.destroyAllWindows()\n"
   ]
  }
 ],
 "metadata": {
  "kernelspec": {
   "display_name": "Python 3",
   "language": "python",
   "name": "python3"
  },
  "language_info": {
   "codemirror_mode": {
    "name": "ipython",
    "version": 3
   },
   "file_extension": ".py",
   "mimetype": "text/x-python",
   "name": "python",
   "nbconvert_exporter": "python",
   "pygments_lexer": "ipython3",
   "version": "3.10.5"
  },
  "orig_nbformat": 4
 },
 "nbformat": 4,
 "nbformat_minor": 2
}
