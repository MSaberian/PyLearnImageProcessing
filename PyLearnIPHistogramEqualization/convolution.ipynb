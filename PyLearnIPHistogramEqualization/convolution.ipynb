{
 "cells": [
  {
   "cell_type": "code",
   "execution_count": 51,
   "metadata": {},
   "outputs": [
    {
     "name": "stdout",
     "output_type": "stream",
     "text": [
      "(1080, 1440)\n"
     ]
    }
   ],
   "source": [
    "import cv2\n",
    "import numpy as np\n",
    "\n",
    "image = cv2.imread('input/attack.jpg', cv2.IMREAD_GRAYSCALE)\n",
    "rows, cols = image.shape\n",
    "result = np.zeros(image.shape)\n",
    "print(image.shape)"
   ]
  },
  {
   "cell_type": "code",
   "execution_count": 52,
   "metadata": {},
   "outputs": [],
   "source": [
    "# 4. Sobel filter\n",
    "kernel = np.array([[-1, 0, 1],\n",
    "                   [-2, 0, 2],\n",
    "                   [-1, 0, 1]])\n",
    "\n",
    "FS = kernel.shape[0]-1"
   ]
  },
  {
   "cell_type": "code",
   "execution_count": 53,
   "metadata": {},
   "outputs": [
    {
     "name": "stdout",
     "output_type": "stream",
     "text": [
      "50, 150, 250, 350, 450, 550, 650, 750, 850, 950, 1050, "
     ]
    }
   ],
   "source": [
    "for i in range(FS//2, rows-FS//2):\n",
    "    if i % 100 == 50:\n",
    "        print(i, end=', ')\n",
    "    for j in range(FS//2, cols-FS//2):\n",
    "        small = image[(i-FS//2):(i+FS//2+1),(j-FS//2):(j+FS//2+1)]\n",
    "        average = np.sum(kernel * small)\n",
    "        result[i, j] = average"
   ]
  },
  {
   "cell_type": "code",
   "execution_count": 54,
   "metadata": {},
   "outputs": [
    {
     "data": {
      "text/plain": [
       "True"
      ]
     },
     "execution_count": 54,
     "metadata": {},
     "output_type": "execute_result"
    }
   ],
   "source": [
    "result = np.hstack((image, result))\n",
    "cv2.imwrite('output/attack Sobel.jpg', result)"
   ]
  }
 ],
 "metadata": {
  "kernelspec": {
   "display_name": "Python 3",
   "language": "python",
   "name": "python3"
  },
  "language_info": {
   "codemirror_mode": {
    "name": "ipython",
    "version": 3
   },
   "file_extension": ".py",
   "mimetype": "text/x-python",
   "name": "python",
   "nbconvert_exporter": "python",
   "pygments_lexer": "ipython3",
   "version": "3.10.5"
  },
  "orig_nbformat": 4
 },
 "nbformat": 4,
 "nbformat_minor": 2
}
