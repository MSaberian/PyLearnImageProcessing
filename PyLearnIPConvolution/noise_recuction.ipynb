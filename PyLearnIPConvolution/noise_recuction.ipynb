{
 "cells": [
  {
   "cell_type": "code",
   "execution_count": 1,
   "metadata": {},
   "outputs": [],
   "source": [
    "import cv2\n",
    "import numpy as np"
   ]
  },
  {
   "cell_type": "code",
   "execution_count": 14,
   "metadata": {},
   "outputs": [
    {
     "name": "stdout",
     "output_type": "stream",
     "text": [
      "(1024, 1024)\n",
      "100, 200, 300, 400, 500, 600, 700, 800, 900, 1000, "
     ]
    },
    {
     "data": {
      "text/plain": [
       "True"
      ]
     },
     "execution_count": 14,
     "metadata": {},
     "output_type": "execute_result"
    }
   ],
   "source": [
    "image = cv2.imread('input/chest.jpg', cv2.IMREAD_GRAYSCALE)\n",
    "rows, cols = image.shape\n",
    "FS = 15 # filter size\n",
    "print(image.shape)\n",
    "image_new = np.zeros((rows, cols)) \n",
    "filter = np.ones((FS,FS))/(FS*FS)\n",
    "\n",
    "for i in range(FS//2, rows-FS//2):\n",
    "    if i % 100 == 0: \n",
    "        print(i, end=', ')\n",
    "    for j in range(FS//2, cols-FS//2):\n",
    "        small = image[(i-FS//2):(i+FS//2+1),(j-FS//2):(j+FS//2+1)]\n",
    "        average = np.sum(filter * small)\n",
    "        if average <128 or image[i,j] < 128:\n",
    "            image_new[i, j] = average\n",
    "        else:\n",
    "            image_new[i, j] = image[i,j]\n",
    "        \n",
    "cv2.imwrite(f'output/chest_{FS}.png',image_new)"
   ]
  },
  {
   "cell_type": "code",
   "execution_count": 12,
   "metadata": {},
   "outputs": [
    {
     "name": "stdout",
     "output_type": "stream",
     "text": [
      "(440, 455)\n",
      "100, 200, 300, 400, "
     ]
    },
    {
     "data": {
      "text/plain": [
       "True"
      ]
     },
     "execution_count": 12,
     "metadata": {},
     "output_type": "execute_result"
    }
   ],
   "source": [
    "image = cv2.imread('input/pcb.jpg', cv2.IMREAD_GRAYSCALE)\n",
    "rows, cols = image.shape\n",
    "FS = 15 # filter size\n",
    "print(image.shape)\n",
    "image_new = np.zeros((rows, cols)) \n",
    "filter = np.ones((FS,FS))/(FS*FS)\n",
    "\n",
    "for i in range(FS//2, rows-FS//2):\n",
    "    if i % 100 == 0: \n",
    "        print(i, end=', ')\n",
    "    for j in range(FS//2, cols-FS//2):\n",
    "        small = image[(i-FS//2):(i+FS//2+1),(j-FS//2):(j+FS//2+1)]\n",
    "        average = np.sum(filter * small)\n",
    "        if average <128 or image[i,j] < 128:\n",
    "            image_new[i, j] = average\n",
    "        else:\n",
    "            image_new[i, j] = image[i,j]\n",
    "        \n",
    "cv2.imwrite(f'output/pcb_{FS}.png',image_new)"
   ]
  },
  {
   "cell_type": "code",
   "execution_count": 13,
   "metadata": {},
   "outputs": [
    {
     "name": "stdout",
     "output_type": "stream",
     "text": [
      "(256, 256)\n",
      "100, 200, "
     ]
    },
    {
     "data": {
      "text/plain": [
       "True"
      ]
     },
     "execution_count": 13,
     "metadata": {},
     "output_type": "execute_result"
    }
   ],
   "source": [
    "image = cv2.imread('input/point.jpg', cv2.IMREAD_GRAYSCALE)\n",
    "rows, cols = image.shape\n",
    "FS = 15 # filter size\n",
    "print(image.shape)\n",
    "image_new = np.zeros((rows, cols)) \n",
    "filter = np.ones((FS,FS))/(FS*FS)\n",
    "\n",
    "for i in range(FS//2, rows-FS//2):\n",
    "    if i % 100 == 0: \n",
    "        print(i, end=', ')\n",
    "    for j in range(FS//2, cols-FS//2):\n",
    "        small = image[(i-FS//2):(i+FS//2+1),(j-FS//2):(j+FS//2+1)]\n",
    "        average = np.sum(filter * small)\n",
    "        if average <128 or image[i,j] < 128:\n",
    "            image_new[i, j] = average\n",
    "        else:\n",
    "            image_new[i, j] = image[i,j]\n",
    "        \n",
    "cv2.imwrite(f'output/point_{FS}.png',image_new)"
   ]
  }
 ],
 "metadata": {
  "kernelspec": {
   "display_name": "Python 3",
   "language": "python",
   "name": "python3"
  },
  "language_info": {
   "codemirror_mode": {
    "name": "ipython",
    "version": 3
   },
   "file_extension": ".py",
   "mimetype": "text/x-python",
   "name": "python",
   "nbconvert_exporter": "python",
   "pygments_lexer": "ipython3",
   "version": "3.10.5"
  },
  "orig_nbformat": 4
 },
 "nbformat": 4,
 "nbformat_minor": 2
}
